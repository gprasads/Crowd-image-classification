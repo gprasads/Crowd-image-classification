{
  "nbformat": 4,
  "nbformat_minor": 0,
  "metadata": {
    "colab": {
      "name": "mlhw3.ipynb",
      "provenance": [],
      "collapsed_sections": [],
      "include_colab_link": true
    },
    "kernelspec": {
      "name": "python3",
      "display_name": "Python 3"
    }
  },
  "cells": [
    {
      "cell_type": "markdown",
      "metadata": {
        "id": "view-in-github",
        "colab_type": "text"
      },
      "source": [
        "<a href=\"https://colab.research.google.com/github/gprasads/Crowd-image-classification/blob/master/mlhw3.ipynb\" target=\"_parent\"><img src=\"https://colab.research.google.com/assets/colab-badge.svg\" alt=\"Open In Colab\"/></a>"
      ]
    },
    {
      "cell_type": "code",
      "metadata": {
        "id": "HCKbd0LISSKg",
        "colab_type": "code",
        "outputId": "abc8696b-86de-46ab-9d0f-418963ef6094",
        "colab": {
          "base_uri": "https://localhost:8080/",
          "height": 128
        }
      },
      "source": [
        "from google.colab import drive\n",
        "drive.mount('/content/drive')"
      ],
      "execution_count": 0,
      "outputs": [
        {
          "output_type": "stream",
          "text": [
            "Go to this URL in a browser: https://accounts.google.com/o/oauth2/auth?client_id=947318989803-6bn6qk8qdgf4n4g3pfee6491hc0brc4i.apps.googleusercontent.com&redirect_uri=urn%3Aietf%3Awg%3Aoauth%3A2.0%3Aoob&scope=email%20https%3A%2F%2Fwww.googleapis.com%2Fauth%2Fdocs.test%20https%3A%2F%2Fwww.googleapis.com%2Fauth%2Fdrive%20https%3A%2F%2Fwww.googleapis.com%2Fauth%2Fdrive.photos.readonly%20https%3A%2F%2Fwww.googleapis.com%2Fauth%2Fpeopleapi.readonly&response_type=code\n",
            "\n",
            "Enter your authorization code:\n",
            "··········\n",
            "Mounted at /content/drive\n"
          ],
          "name": "stdout"
        }
      ]
    },
    {
      "cell_type": "code",
      "metadata": {
        "id": "sy-Sa0F3Ugvj",
        "colab_type": "code",
        "colab": {}
      },
      "source": [
        "#importing libraries\n",
        "import numpy as np\n",
        "import matplotlib.pyplot as mpl\n",
        "import pandas as pd\n",
        "import pickle\n",
        "\n",
        "train_labels = pd.read_csv('/content/drive/My Drive/ml_hw3/Train_Labels.csv')\n",
        "test_labels= pd.read_csv('/content/drive/My Drive/ml_hw3/Val_Labels.csv')\n",
        "\n",
        "with open(\"/content/drive/My Drive/ml_hw3/Train_Features.pkl\", 'rb') as file:\n",
        "  train_pickle = pickle.load(file, encoding=\"latin1\")\n",
        "  train_data = pd.DataFrame(train_pickle).T  \n",
        "  \n",
        "with open(\"/content/drive/My Drive/ml_hw3/Val_Features.pkl\", 'rb') as file:\n",
        "  test_pickle = pickle.load(file, encoding=\"latin1\")\n",
        "  test_data = pd.DataFrame(test_pickle).T  \n",
        "\n",
        "with open(\"/content/drive/My Drive/ml_hw3/Test_Features.pkl\", 'rb') as file:\n",
        "  sub_pickle = pickle.load(file, encoding=\"latin1\")\n",
        "  sub_data = pd.DataFrame(sub_pickle).T  \n",
        "\n"
      ],
      "execution_count": 0,
      "outputs": []
    },
    {
      "cell_type": "code",
      "metadata": {
        "id": "Pb0GRRpVmoHz",
        "colab_type": "code",
        "colab": {}
      },
      "source": [
        "train_data.index.name = 'rowId'\n",
        "train_data.reset_index(inplace=True)\n",
        "test_data.index.name = 'rowId'\n",
        "test_data.reset_index(inplace=True)\n",
        "sub_data.index.name = 'rowId'\n",
        "sub_data.reset_index(inplace=True)"
      ],
      "execution_count": 0,
      "outputs": []
    },
    {
      "cell_type": "code",
      "metadata": {
        "id": "u9qJUQh_Isnj",
        "colab_type": "code",
        "colab": {}
      },
      "source": [
        "train_full_data=pd.merge(train_data, train_labels, left_on='rowId', right_on='Id',how='inner')\n",
        "test_full_data=pd.merge(test_data, test_labels, left_on='rowId', right_on='Id',how='inner')\n",
        "sub_full_data=pd.merge(sub_data, train_labels, left_on='rowId', right_on='Id',how='left')"
      ],
      "execution_count": 0,
      "outputs": []
    },
    {
      "cell_type": "code",
      "metadata": {
        "id": "TSE9Lvr5Hirp",
        "colab_type": "code",
        "colab": {}
      },
      "source": [
        "x_train=train_full_data[train_full_data.columns.difference(['Id', 'rowId','Category'])]\n",
        "x_test=test_full_data[test_full_data.columns.difference(['Id', 'rowId','Category'])]\n",
        "x_sub=sub_full_data[sub_full_data.columns.difference(['Id', 'rowId','Category'])]\n",
        "y_train=train_full_data[['Category']]\n",
        "y_test=test_full_data[['Category']]"
      ],
      "execution_count": 0,
      "outputs": []
    },
    {
      "cell_type": "code",
      "metadata": {
        "id": "RHuQhbwopsIt",
        "colab_type": "code",
        "colab": {}
      },
      "source": [
        "from sklearn.preprocessing import OneHotEncoder \n",
        "\n",
        "onehotencoder = OneHotEncoder(categorical_features = [0]) \n",
        "y_train_encoded = onehotencoder.fit_transform(y_train).toarray() \n"
      ],
      "execution_count": 0,
      "outputs": []
    },
    {
      "cell_type": "code",
      "metadata": {
        "id": "Dr_HKKG-Ox5y",
        "colab_type": "code",
        "colab": {}
      },
      "source": [
        "onehotencoder = OneHotEncoder(categorical_features = [0]) \n",
        "y_test_encoded = onehotencoder.fit_transform(y_test).toarray() "
      ],
      "execution_count": 0,
      "outputs": []
    },
    {
      "cell_type": "code",
      "metadata": {
        "id": "3GaKwPl-Rt65",
        "colab_type": "code",
        "colab": {}
      },
      "source": [
        "import numpy as np\n",
        "import math \n",
        "import secrets\n",
        "\n",
        "def pseudo_softmax(x,last_class):\n",
        "  sum=np.sum(np.exp(x))\n",
        "  \n",
        "  if last_class:\n",
        "    return (1 /(1+sum))\n",
        "  else:\n",
        "    out=[]\n",
        "    for i in x:\n",
        "      out.append(i/(1+sum))\n",
        "    return out\n",
        "  \n",
        "def batchify(n,m):\n",
        "    numbers=list(range(n))\n",
        "    batches=[]\n",
        "    while len(numbers)>0:\n",
        "        c_list=[]\n",
        "        for i in range(m):\n",
        "            c=secrets.choice(numbers)\n",
        "            c_list.append(c)\n",
        "            numbers.remove(c)\n",
        "            if len(numbers) == 0:\n",
        "                break\n",
        "        if len(c_list) == m:\n",
        "            batches.append(c_list)\n",
        "        elif len(c_list)<len(batches):\n",
        "            for i in range(len(c_list)):\n",
        "                batches[i].append(c_list[i])\n",
        "        else:\n",
        "            batches.append(c_list)\n",
        "    return batches\n",
        "  \n",
        "def der_function(X,Y,theta_transpose,values,k):\n",
        "  (rows, columns) = X.shape\n",
        "  X1 = np.ones(columns, dtype=int)\n",
        "  Xbar = np.vstack([X, X1])    \n",
        "  der=0\n",
        "  for i in values:\n",
        "    Xj = Xbar[..., i].ravel()\n",
        "    epow = theta_transpose.dot(Xj)\n",
        "    sigmoid=pseudo_softmax(epow,False)\n",
        "    Xj=np.asarray(Xj)[np.newaxis]\n",
        "    diff=np.subtract(Y[i][0:k],sigmoid)\n",
        "    diff=np.asarray(diff)[np.newaxis]\n",
        "    diff=diff.T\n",
        "    der=der+diff.dot(Xj)\n",
        "  return 0-(1/len(values))*der\n",
        "\n",
        "def l_theta_function(X,Y,theta_transpose):\n",
        "\n",
        "    (rows, columns) = X.shape\n",
        "    Y=np.asarray(Y)\n",
        "    X1 = np.ones(columns, dtype=int)\n",
        "    Xbar = np.vstack([X, X1])\n",
        "    theta_transpose=np.asarray(theta_transpose, dtype=np.float32)\n",
        "    sumX=0\n",
        "    for i in range(columns):\n",
        "        Xi = Xbar[..., i].ravel()\n",
        "        theta_transpose = np.asarray(theta_transpose)\n",
        "        epow = theta_transpose.dot(Xi)\n",
        "        sigmoid=pseudo_softmax(epow,False)\n",
        "        sum=0\n",
        "        for k in range(3):\n",
        "          sum= sum+ sigmoid[k]-(np.log(1+np.sum(np.exp(epow))))\n",
        "        sumX=sumX+sum\n",
        "    op =0-(sum/columns)\n",
        "    return op\n",
        "    \n",
        "def stocastic_gradient_function(X,Y,m,eta0,eta1,max_epoch,delta,K_size,Y_un):\n",
        "    l_theta_old=0\n",
        "    plot=[]\n",
        "    accuracy=[]\n",
        "    (rows,columns) = X.shape\n",
        "    for i in range(20):\n",
        "      theta_transpose=np.ones([3,rows+1],dtype=float)\n",
        "      batches=batchify(columns,m)\n",
        "      eta=eta0/(eta1+i)      \n",
        "      for k in range(len(batches)):\n",
        "        theta_transpose= np.subtract(theta_transpose,eta*der_function(X,Y,theta_transpose,batches[k],K_size-1))\n",
        "      accuracy.append((i,(accuracy_predictions_for_epoch(theta_transpose,Y_un,columns,X))))\n",
        "      l_theta_new=l_theta_function(X,Y,theta_transpose)\n",
        "      if l_theta_old==0:\n",
        "        l_theta_old=l_theta_new\n",
        "        plot.append((i,l_theta_new))\n",
        "      elif l_theta_new>((1-delta)*l_theta_old):\n",
        "          plot.append((i,l_theta_new))\n",
        "          return (accuracy,plot,theta_transpose)\n",
        "      else:\n",
        "          plot.append((i,l_theta_new))\n",
        "          l_theta_old=l_theta_new\n",
        "            \n",
        "    return (accuracy,plot,theta_transpose)\n",
        "\n",
        "def accuracy_predictions_for_epoch(Theta,Y_un,columns,X):\n",
        "    O=[]\n",
        "    X1 = np.ones(columns, dtype=int)\n",
        "    Xbar = np.vstack([X, X1])\n",
        "    for i in range(columns):\n",
        "        Xi = Xbar[..., i].ravel()\n",
        "        Xi=np.asarray(Xi)[np.newaxis]\n",
        "        Xi=np.transpose(Xi)\n",
        "        epow = Theta.dot(Xi)\n",
        "        sigmoid=[]\n",
        "        for s in pseudo_softmax(epow,False):\n",
        "          sigmoid.append(s)\n",
        "        sigmoid.append(pseudo_softmax(epow,True))\n",
        "        O.append(sigmoid)\n",
        "    Out1=pd.DataFrame(data=O,columns=['1','2','3','4'],dtype=float)\n",
        "    Category=pd.DataFrame(data=Out1.idxmax(axis=1),columns=['Category'])\n",
        "    Arr1=Y_un.values.astype(np.float).flatten()\n",
        "    Arr2=Category['Category'].values.astype(np.float).flatten()\n",
        "    return np.equal(Arr1,Arr2).tolist().count(True)/len(Y_un)\n",
        "    \n",
        "  \n",
        "def logistic_regression_function(X_test,X,Y,m,eta0,eta1,ma_epoch,delta,K_size,Y_un):\n",
        "    (rows, columns) = X_test.shape\n",
        "    X1 = np.ones(columns, dtype=int)\n",
        "    Xbar = np.vstack([X_test, X1])\n",
        "    accuracy,plot,Theta =stocastic_gradient_function(X,Y,m,eta0,eta1,ma_epoch,delta,K_size,Y_un)\n",
        "    O=[]\n",
        "    for i in range(columns):\n",
        "        Xi = Xbar[..., i].ravel()\n",
        "        Xi=np.asarray(Xi)[np.newaxis]\n",
        "        Xi=np.transpose(Xi)\n",
        "        epow = Theta.dot(Xi)\n",
        "        sigmoid=[]\n",
        "        for s in pseudo_softmax(epow,False):\n",
        "          sigmoid.append(s)\n",
        "        sigmoid.append(pseudo_softmax(epow,True))\n",
        "        O.append(sigmoid)\n",
        "    return (O,plot,accuracy)"
      ],
      "execution_count": 0,
      "outputs": []
    },
    {
      "cell_type": "code",
      "metadata": {
        "id": "uz0_BbAWGuZV",
        "colab_type": "code",
        "colab": {}
      },
      "source": [
        "x=np.transpose(x_train.values)/np.linalg.norm(np.transpose(x_train.values),2)\n",
        "xt=np.transpose(x_test.values)/np.linalg.norm(np.transpose(x_test.values),2)\n",
        "xs=np.transpose(x_sub.values)/np.linalg.norm(np.transpose(x_sub.values),2)\n",
        "accuracy_random_temp,plot_random_temp,Theta_random_temp=stocastic_gradient_function(x,y_train_encoded,16,0.1,1,1000,0.00001,4,y_train)"
      ],
      "execution_count": 0,
      "outputs": []
    },
    {
      "cell_type": "code",
      "metadata": {
        "id": "ka1Y9-dXHDPI",
        "colab_type": "code",
        "colab": {}
      },
      "source": [
        "Theta_random_temp"
      ],
      "execution_count": 0,
      "outputs": []
    },
    {
      "cell_type": "code",
      "metadata": {
        "id": "l52Kf-HGwdSD",
        "colab_type": "code",
        "colab": {}
      },
      "source": [
        "x=np.transpose(x_train.values)/np.linalg.norm(np.transpose(x_train.values),2)\n",
        "xt=np.transpose(x_test.values)/np.linalg.norm(np.transpose(x_test.values),2)\n",
        "xs=np.transpose(x_sub.values)/np.linalg.norm(np.transpose(x_sub.values),2)\n",
        "Out,plot_standard,accuracy_std=logistic_regression_function(xs,x,y_train_encoded,16,0.1,1,1000,0.00001,4,y_train)\n",
        "Out_eta,plot_eta,accuracy_eta=logistic_regression_function(xs,x,y_train_encoded,16,0.1,10,1000,0.00001,4,y_train)\n",
        "Out_t,plot_t,accuracytem=logistic_regression_function(xt,xt,y_test_encoded,16,0.1,1,1000,0.00001,4,y_test)\n",
        "Out_at,plot_at,accuracy_at=logistic_regression_function(xt,xt,y_test_encoded,16,0.1,1,1000,0.00001,4,y_test)\n",
        "Out_sa,plot_sa,accuracy_sa=logistic_regression_function(x,x,y_train_encoded,16,0.1,1,1000,0.00001,4,y_train)"
      ],
      "execution_count": 0,
      "outputs": []
    },
    {
      "cell_type": "code",
      "metadata": {
        "id": "wPfPpBICOO5R",
        "colab_type": "code",
        "outputId": "9566da0b-6f8d-44c4-a1a6-7095ba58781a",
        "colab": {
          "base_uri": "https://localhost:8080/",
          "height": 301
        }
      },
      "source": [
        "import matplotlib.pyplot as mpl\n",
        "Out1=pd.DataFrame(data=Out,columns=['1','2','3','4'],dtype=float)\n",
        "Category=pd.DataFrame(data=Out1.idxmax(axis=1),columns=['Category'])\n",
        "\n",
        "plot_s=plot_standard\n",
        "plotter=pd.DataFrame(plot_s, columns=['epoch','l_theta'])\n",
        "\n",
        "mpl.plot(plotter['epoch'],plotter['l_theta'])\n",
        "mpl.xlabel('epoch') \n",
        "mpl.ylabel('L(theta)')"
      ],
      "execution_count": 0,
      "outputs": [
        {
          "output_type": "execute_result",
          "data": {
            "text/plain": [
              "Text(0, 0.5, 'L(theta)')"
            ]
          },
          "metadata": {
            "tags": []
          },
          "execution_count": 154
        },
        {
          "output_type": "display_data",
          "data": {
            "image/png": "[encoded data removed]",
            "text/plain": [
              "<Figure size 432x288 with 1 Axes>"
            ]
          },
          "metadata": {
            "tags": []
          }
        }
      ]
    },
    {
      "cell_type": "markdown",
      "metadata": {
        "id": "dvDmR8_uk-L1",
        "colab_type": "text"
      },
      "source": [
        "**OBSERVED VALUES**\n",
        "\n",
        "epoch = 361\n",
        "\n",
        "L(theta):0.001717770475179635"
      ]
    },
    {
      "cell_type": "code",
      "metadata": {
        "id": "7aC5ZHFdDUTZ",
        "colab_type": "code",
        "outputId": "12a044ba-c325-4b2b-cbc3-57603ab02f26",
        "colab": {
          "base_uri": "https://localhost:8080/",
          "height": 313
        }
      },
      "source": [
        "plotter_eta=pd.DataFrame(plot_eta, columns=['epoch','l_theta'])\n",
        "mpl.plot(plotter_eta['epoch'],plotter_eta['l_theta'])\n",
        "mpl.title('eta0=0.1 and eta1=10')\n",
        "mpl.xlabel('epoch') \n",
        "mpl.ylabel('L(theta)')"
      ],
      "execution_count": 0,
      "outputs": [
        {
          "output_type": "execute_result",
          "data": {
            "text/plain": [
              "Text(0, 0.5, 'L(theta)')"
            ]
          },
          "metadata": {
            "tags": []
          },
          "execution_count": 156
        },
        {
          "output_type": "display_data",
          "data": {
            "image/png": "[encoded data removed]",
            "text/plain": [
              "<Figure size 432x288 with 1 Axes>"
            ]
          },
          "metadata": {
            "tags": []
          }
        }
      ]
    },
    {
      "cell_type": "markdown",
      "metadata": {
        "id": "-3yliYdcL7Bq",
        "colab_type": "text"
      },
      "source": [
        "**ETA VALUE**\n",
        "\n",
        "eta0 = 0.1\n",
        "\n",
        "eta1 = 10\n",
        "\n",
        "Epoch at eta 0.1 and 10: 351\n",
        "\n",
        "L theta =0.0017177875813974856 "
      ]
    },
    {
      "cell_type": "code",
      "metadata": {
        "id": "SiRZDi3vRhEQ",
        "colab_type": "code",
        "outputId": "71218665-59fa-4a82-ee44-7fbf12edb86d",
        "colab": {
          "base_uri": "https://localhost:8080/",
          "height": 295
        }
      },
      "source": [
        "plotter_t=pd.DataFrame(plot_t, columns=['epoch','l_theta'])\n",
        "mpl.plot(plotter['epoch'], plotter['l_theta'], 'r') \n",
        "mpl.plot(plotter_t['epoch'], plotter_t['l_theta'], 'b') \n",
        "mpl.title('Plot of L(Theta) as on training and validation data')\n",
        "mpl.xlabel('epoch')\n",
        "mpl.ylabel('ltheta')\n",
        "mpl.show()\n"
      ],
      "execution_count": 0,
      "outputs": [
        {
          "output_type": "display_data",
          "data": {
            "image/png": "[encoded data removed]",
            "text/plain": [
              "<Figure size 432x288 with 1 Axes>"
            ]
          },
          "metadata": {
            "tags": []
          }
        }
      ]
    },
    {
      "cell_type": "code",
      "metadata": {
        "id": "DK8BcUL1sr2f",
        "colab_type": "code",
        "colab": {}
      },
      "source": [
        "\n",
        "atplotter=pd.DataFrame(accuracy_at, columns=['epoch','accuracy'])\n",
        "saplotter=pd.DataFrame(accuracy_sa, columns=['epoch','accuracy'])\n",
        "mpl.plot(atplotter['epoch'], atplotter['accuracy'], 'r') \n",
        "mpl.plot(saplotter['epoch'], saplotter['accuracy'], 'b') \n",
        "mpl.title('Plot of Accuracy vs epoch as on training and validation data')\n",
        "mpl.xlabel('epoch')\n",
        "mpl.ylabel('accuracy')\n",
        "mpl.show()"
      ],
      "execution_count": 0,
      "outputs": []
    },
    {
      "cell_type": "code",
      "metadata": {
        "id": "bEj1ogOdSOg-",
        "colab_type": "code",
        "colab": {}
      },
      "source": [
        "from sklearn.metrics import confusion_matrix\n",
        "\n",
        "Out_ct,plot_ct,ac1=logistic_regression_function(xt,x,y_train_encoded,16,0.1,1,1000,0.00001,4,y_train)\n",
        "Out_ctr,plot_ctr,ac2=logistic_regression_function(x,x,y_train_encoded,16,0.1,1,1000,0.00001,4,y_train)\n",
        "Out1_ct=pd.DataFrame(data=Out_ct,columns=['1','2','3','4'],dtype=float)\n",
        "Out1_ctr=pd.DataFrame(data=Out_ctr,columns=['1','2','3','4'],dtype=float)\n",
        "Category_ct=pd.DataFrame(data=Out1_ct.idxmax(axis=1),columns=['Category'])\n",
        "Category_ctr=pd.DataFrame(data=Out1_ctr.idxmax(axis=1),columns=['Category'])\n",
        "\n",
        "results_1 = confusion_matrix(y_test.values.astype(np.float), Category_ct['Category'].values.astype(np.float))\n",
        "results_2 = confusion_matrix(y_train.values.astype(np.float), Category_ctr['Category'].values.astype(np.float))\n",
        "\n",
        "print('Confusion matrix For Test Data')\n",
        "print(results_1)\n",
        "print('Confusion matrix for Training data')\n",
        "print(results_2)"
      ],
      "execution_count": 0,
      "outputs": []
    },
    {
      "cell_type": "code",
      "metadata": {
        "id": "f2GxWSECbDNA",
        "colab_type": "code",
        "colab": {}
      },
      "source": [
        "Category_ct['Category'].values.tolist()"
      ],
      "execution_count": 0,
      "outputs": []
    },
    {
      "cell_type": "code",
      "metadata": {
        "id": "sGyITsSdiWhY",
        "colab_type": "code",
        "colab": {}
      },
      "source": [
        "output_df = pd.DataFrame({'Id': sub_full_data['rowId'], 'Category': Out1.idxmax(axis=1)})"
      ],
      "execution_count": 0,
      "outputs": []
    },
    {
      "cell_type": "code",
      "metadata": {
        "id": "XpjCRbLnlMVD",
        "colab_type": "code",
        "colab": {}
      },
      "source": [
        "output_df"
      ],
      "execution_count": 0,
      "outputs": []
    },
    {
      "cell_type": "code",
      "metadata": {
        "id": "dwNBSoHjipBN",
        "colab_type": "code",
        "colab": {}
      },
      "source": [
        "output_df.to_csv('submission_hw3v1.csv', header=False, index=False)"
      ],
      "execution_count": 0,
      "outputs": []
    }
  ]
}